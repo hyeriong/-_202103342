{
  "nbformat": 4,
  "nbformat_minor": 0,
  "metadata": {
    "colab": {
      "name": "week_03.ipynb",
      "provenance": [],
      "authorship_tag": "ABX9TyNpfqMJSq2b2BVbvA1iGZM4",
      "include_colab_link": true
    },
    "kernelspec": {
      "name": "python3",
      "display_name": "Python 3"
    },
    "language_info": {
      "name": "python"
    }
  },
  "cells": [
    {
      "cell_type": "markdown",
      "metadata": {
        "id": "view-in-github",
        "colab_type": "text"
      },
      "source": [
        "<a href=\"https://colab.research.google.com/github/hyeriong/cho-hye-ryeong_202103342/blob/main/week_03.ipynb\" target=\"_parent\"><img src=\"https://colab.research.google.com/assets/colab-badge.svg\" alt=\"Open In Colab\"/></a>"
      ]
    },
    {
      "cell_type": "markdown",
      "source": [
        "# 고급파이썬프로그래밍_3주차(3/18)\n",
        "## Ch04.IF\n",
        "### 중첩조건문\n",
        "- nested conditional\n",
        "- if 블록 안에 또다른 if 블록이 있는 경우\n",
        "- if 블록 각각의 조건이 다름\n",
        "- if 블록 안의 또다른 if 블록은 들여쓰기로 구분한다.(들여쓰기로 논리 구분)"
      ],
      "metadata": {
        "id": "snkAxiiWQ8nD"
      }
    },
    {
      "cell_type": "code",
      "source": [
        "\"\"\" 중첩조건문 형식\n",
        "    if 조건식1:\n",
        "          if 조건식2:\n",
        "         실행할 문장1\n",
        "      else: \n",
        "         실행할 문장2\n",
        "    else: \n",
        "      실행할 문장3 \"\"\""
      ],
      "metadata": {
        "colab": {
          "base_uri": "https://localhost:8080/",
          "height": 55
        },
        "id": "j0mg-FvxUiBl",
        "outputId": "758e6093-1ca9-4b3b-ea29-ef6230117ee0"
      },
      "execution_count": null,
      "outputs": [
        {
          "output_type": "execute_result",
          "data": {
            "text/plain": [
              "' 중첩조건문 형식\\n    if 조건식1:\\n          if 조건식2:\\n         실행할 문장1\\n      else: \\n         실행할 문장2\\n    else: \\n      실행할 문장3 '"
            ],
            "application/vnd.google.colaboratory.intrinsic+json": {
              "type": "string"
            }
          },
          "metadata": {},
          "execution_count": 1
        }
      ]
    },
    {
      "cell_type": "code",
      "source": [
        "#1. \n",
        "x = 0\n",
        "y = 1\n",
        "if x == y:\n",
        "  print(\"SAME\")\n",
        "else:\n",
        "  if x < y:\n",
        "    print(\"Y is greater than X\")\n",
        "  else:\n",
        "    print(\"X is greater than Y\")\n",
        "\n",
        "## 코드는 간결할수록 좋음 -> 위의 예시는 안 좋은 예시임."
      ],
      "metadata": {
        "colab": {
          "base_uri": "https://localhost:8080/"
        },
        "id": "Ig5gQIbzVc7B",
        "outputId": "c1391ce4-5f47-44b7-f9c2-af86b0cebc5c"
      },
      "execution_count": null,
      "outputs": [
        {
          "output_type": "stream",
          "name": "stdout",
          "text": [
            "Y is greater than X\n"
          ]
        }
      ]
    },
    {
      "cell_type": "code",
      "source": [
        "#2.\n",
        "if x > 0:\n",
        "  if x < 10:\n",
        "    print(\"0 < x < 10\")\n",
        "  else:\n",
        "    print(\"x > 10\")\n",
        "else:\n",
        "  print(\"x <=  0\")\n",
        "\n",
        "## 0 < x < 10 을 표현하기 위한 코드\n",
        "## 중첩 조건문으로 코드 표현하는 것은 가능하나, 코드가 간결하지 않으므로 좋지 않은 예시 "
      ],
      "metadata": {
        "colab": {
          "base_uri": "https://localhost:8080/"
        },
        "id": "WAu5IfHJV6jU",
        "outputId": "b6577bcc-6402-42a5-ce22-f4d3c66d940c"
      },
      "execution_count": null,
      "outputs": [
        {
          "output_type": "stream",
          "name": "stdout",
          "text": [
            "x <=  0\n"
          ]
        }
      ]
    },
    {
      "cell_type": "code",
      "source": [
        "#3 \n",
        "if x == y:\n",
        "  print(\"SAME\")\n",
        "elif x < y:\n",
        "  print(\"Y is greater than X\")\n",
        "else:\n",
        "  print(\"X is greater than Y\")\n",
        "\n",
        "## 위 3개의 예시들을 더 간결하게 표현하는 법? -> \"논리연산자\" 이용하기"
      ],
      "metadata": {
        "colab": {
          "base_uri": "https://localhost:8080/"
        },
        "id": "UNz3niacV-k8",
        "outputId": "eb83444f-0e9a-4b76-d36f-0782213cd598"
      },
      "execution_count": null,
      "outputs": [
        {
          "output_type": "stream",
          "name": "stdout",
          "text": [
            "Y is greater than X\n"
          ]
        }
      ]
    },
    {
      "cell_type": "markdown",
      "source": [
        "## 논리연산자\n",
        "- 비교연산자가 여러 번 사용될 경우, 논리연산자를 사용하여 간결하게 정리(한줄에 정리)\n",
        "- and(그리고/논리곱), or(또는/논리합), not(부정/논리부정)\n",
        "   - A and B : A도 참이고, B도 참일 때 True\n",
        "      - ex. A & B\n",
        "   - A or B: A 혹은 B, 둘 중 하나만 참이면 True\n",
        "      - ex. A | B\n",
        "  - not A: A가 False -> True, True -> False\n",
        "- 비교 연산지의 괄호는 가독성을 위해(optional)\n",
        "- 파이썬에서만 가능한 표현: 0 < x < 10\n"
      ],
      "metadata": {
        "id": "nIzC89ciW-Ke"
      }
    },
    {
      "cell_type": "code",
      "source": [
        "# 방법1 -> 논리연산자 사용 \n",
        "if (x > 0) and (x < 10):   # 논리연산자 # 괄호의 유무는 상관없으나 가독성을 위해 씀\n",
        "  print(\"0 < x < 10\")\n",
        "else:\n",
        "  print(\"x <= 0 or x > 10\")\n",
        "  \n",
        "# 방법 2 -> 파이썬에서만 사용 가능한 0 < x < 10 이용\n",
        "if 0 < x < 10:\n",
        "  print(\"x는 0보다 크고 10보다 작다\")\n",
        "else:\n",
        "  print(\"x <= 0이거나, x는 10보다 크다\")"
      ],
      "metadata": {
        "colab": {
          "base_uri": "https://localhost:8080/"
        },
        "id": "S0c5ZItZayth",
        "outputId": "00597204-b5b6-474e-e792-47e1f4052fc2"
      },
      "execution_count": null,
      "outputs": [
        {
          "output_type": "stream",
          "name": "stdout",
          "text": [
            "x <= 0 or x > 10\n",
            "x <= 0이거나, x는 10보다 크다\n"
          ]
        }
      ]
    },
    {
      "cell_type": "markdown",
      "source": [
        "### True/False\n",
        "- \"만약 num이 참이라면,...\" -> num = True\n",
        "- num이 거짓이라면? -> num = False"
      ],
      "metadata": {
        "id": "G-kK6ZxGcDb6"
      }
    },
    {
      "cell_type": "code",
      "source": [
        "num = 1\n",
        "if num == True:  #틀린 코드  # 퀴즈에서 이렇게 쓰면 감점되니 주의할 것!\n",
        "  print()\n",
        "\n",
        "if num:\n",
        "  print()"
      ],
      "metadata": {
        "colab": {
          "base_uri": "https://localhost:8080/"
        },
        "id": "py8nSt11cEf3",
        "outputId": "c7326660-3abc-4544-c42a-42732060a0b0"
      },
      "execution_count": null,
      "outputs": [
        {
          "output_type": "stream",
          "name": "stdout",
          "text": [
            "\n",
            "\n"
          ]
        }
      ]
    },
    {
      "cell_type": "markdown",
      "source": [
        "### in(여러 개 비교)\n",
        "- membership operator(멤버십 연산자)\n",
        "- 어떤 요소가 특정 범위 안에(ex. 리스트 요소 안 등) 있는지 확인하고 싶은 경우\n",
        "- 비슷한 조건이 여러 번 반복될 때 사용 가능\n",
        "- not in : 특정 범위 안에 없는 것을 확인하고 싶을 때"
      ],
      "metadata": {
        "id": "OBt6LpXqcmxX"
      }
    },
    {
      "cell_type": "code",
      "source": [
        "letter = 'k'\n",
        "\n",
        "# letter 변수에 할당된 값이 모음인지 확인하고 싶다면?\n",
        "# 모음 = a,e,i,o,u -> 이 안에 letter에 해당되는 값이 있는지 확인\n",
        "# if letter == 'a' or letter == 'e' ...\n",
        "\n",
        "if letter in ['a', 'e', 'i', 'o', 'u']:    # 리스트 요소에 letter와 일치하는 것이 있는가?\n",
        "  print(\"letter is in vowels\")\n",
        "else: \n",
        "  print(\"letter isn't a vowel\")"
      ],
      "metadata": {
        "colab": {
          "base_uri": "https://localhost:8080/"
        },
        "id": "NFLwnipAdMTo",
        "outputId": "b375b2ea-bf3a-4e1a-d735-4a150cc81e1a"
      },
      "execution_count": null,
      "outputs": [
        {
          "output_type": "stream",
          "name": "stdout",
          "text": [
            "letter isn't in vowels\n"
          ]
        }
      ]
    },
    {
      "cell_type": "code",
      "source": [
        "# word 안에 모음이 있는지 확인하기\n",
        "\n",
        "word = 'abcde'\n",
        "\n",
        "if 'a' or 'e' or 'i' or 'o' or 'u' in word:\n",
        "  print(\"Yes, vowels are in word\")\n",
        "else:\n",
        "  print(\"No, vowels are not in word\")"
      ],
      "metadata": {
        "colab": {
          "base_uri": "https://localhost:8080/"
        },
        "id": "W5eKo_RYeGji",
        "outputId": "bad2a2b3-39e1-4b6d-d346-29d4f97a3a73"
      },
      "execution_count": null,
      "outputs": [
        {
          "output_type": "stream",
          "name": "stdout",
          "text": [
            "Yes, vowels are in word\n"
          ]
        }
      ]
    },
    {
      "cell_type": "code",
      "source": [
        "# for loop => pass"
      ],
      "metadata": {
        "id": "L4xJND24g1M3"
      },
      "execution_count": null,
      "outputs": []
    },
    {
      "cell_type": "markdown",
      "source": [
        "### 바다코끼리 연산자\n",
        "- walrus operator\n",
        "- 할당과 테스트를 동시에 하는 기능\n",
        "- 이름 := 표현식\n",
        "- `:=` 모양이 바다코끼리처럼 생김"
      ],
      "metadata": {
        "id": "7KoUL_BEhga6"
      }
    },
    {
      "cell_type": "code",
      "source": [
        "tweet_limit = 200\n",
        "tweet_string = 'blah' * 50  # 공백 없이 스트링 4*50개\n",
        "print(tweet_string)"
      ],
      "metadata": {
        "colab": {
          "base_uri": "https://localhost:8080/"
        },
        "id": "nBPVOJAph-Qu",
        "outputId": "63edc62f-a9c1-4ccc-b691-d1c14d8eab38"
      },
      "execution_count": null,
      "outputs": [
        {
          "output_type": "stream",
          "name": "stdout",
          "text": [
            "blahblahblahblahblahblahblahblahblahblahblahblahblahblahblahblahblahblahblahblahblahblahblahblahblahblahblahblahblahblahblahblahblahblahblahblahblahblahblahblahblahblahblahblahblahblahblahblahblahblah\n"
          ]
        }
      ]
    },
    {
      "cell_type": "code",
      "source": [
        "diff = tweet_limit - len(tweet_string)\n",
        "if diff > 0:\n",
        "  print(\"가능\")\n",
        "else:\n",
        "  print(\"불가능\")"
      ],
      "metadata": {
        "colab": {
          "base_uri": "https://localhost:8080/"
        },
        "id": "edsQfNF4iI8f",
        "outputId": "4b195485-fdae-4b84-9af8-1c7e2419bb08"
      },
      "execution_count": null,
      "outputs": [
        {
          "output_type": "stream",
          "name": "stdout",
          "text": [
            "불가능\n"
          ]
        }
      ]
    },
    {
      "cell_type": "code",
      "source": [
        "\"\"\" if diff := tweet_limit - len(tweet_string) > 0:\n",
        "       print(\"가능\") \"\"\"\n",
        "\n",
        "# SyntaxError 뜨는 사람들은 바다코끼리 연산자 사용 X"
      ],
      "metadata": {
        "colab": {
          "base_uri": "https://localhost:8080/",
          "height": 36
        },
        "id": "VI_GIVFTjQd9",
        "outputId": "fbd22696-b408-44c4-e245-c5b744a04a52"
      },
      "execution_count": null,
      "outputs": [
        {
          "output_type": "execute_result",
          "data": {
            "text/plain": [
              "' if diff := tweet_limit - len(tweet_string) > 0:\\n       print(\"가능\") '"
            ],
            "application/vnd.google.colaboratory.intrinsic+json": {
              "type": "string"
            }
          },
          "metadata": {},
          "execution_count": 34
        }
      ]
    },
    {
      "cell_type": "markdown",
      "source": [
        "### Quiz\n",
        "- 윤년을 구하는 코드를 짜보자\n",
        "     - 연도가 4로 나눠떨어지면 윤년\n",
        "     - 100으로 나눠떨어지면 안된다\n",
        "     - 400으로 나눠떨어지면 된다\n",
        "- year를 입력받는다\n",
        "- 출력 = '{}년은 윤년입니다.' / \"{}년은 윤년이 아닙니다\""
      ],
      "metadata": {
        "id": "ElV7DzyJjjlz"
      }
    },
    {
      "cell_type": "code",
      "source": [
        "year = int(input(\"윤년인지 아닌지 확인하고 싶은 연도를 입력하세요: \"))\n",
        "if (year % 4 == 0) and (year % 100 != 0) or (year % 400 == 0):\n",
        "  print(f'{year}년은 윤년입니다')\n",
        "else:\n",
        "  print(f'{year}년은 윤년이 아닙니다')"
      ],
      "metadata": {
        "colab": {
          "base_uri": "https://localhost:8080/"
        },
        "id": "WA9L4R2bj2O8",
        "outputId": "29139ed9-af72-493f-bd1d-1eb7f9914fbe"
      },
      "execution_count": null,
      "outputs": [
        {
          "output_type": "stream",
          "name": "stdout",
          "text": [
            "윤년인지 아닌지 확인하고 싶은 연도를 입력하세요: 2000\n",
            "2000년은 윤년입니다\n"
          ]
        }
      ]
    },
    {
      "cell_type": "code",
      "source": [
        "# 중첩조건문을 이용한 윤년 코드 구하기\n",
        "year = int(input(\"확인하고 싶은 연도를 입력하세요: \"))\n",
        "\n",
        "if year % 4 == 0:\n",
        "  if year % 100 == 0:\n",
        "    if year % 400 == 0:\n",
        "      print(f'{year}년은 윤년입니다')\n",
        "    else:\n",
        "      print(f'{year}년은 평년입니다')\n",
        "  else:\n",
        "    print(f'{year}년은 윤년이 아닙니다')\n",
        "else:\n",
        "  print(f'{year}년은 윤년이 아닙니다')"
      ],
      "metadata": {
        "colab": {
          "base_uri": "https://localhost:8080/"
        },
        "id": "TNtUowcQj9qM",
        "outputId": "2deaeb7f-0925-435b-e806-ae033dd29e5b"
      },
      "execution_count": null,
      "outputs": [
        {
          "output_type": "stream",
          "name": "stdout",
          "text": [
            "확인하고 싶은 연도를 입력하세요: 200\n",
            "200년은 평년입니다\n"
          ]
        }
      ]
    },
    {
      "cell_type": "code",
      "source": [
        "## 저번 시간에 if~elif~else문으로 풀었던 퀴즈 다른 방법으로 풀어보기\n",
        "\"\"\"\n",
        "퀴즈\n",
        "- 2. 시험 점수를 입력 받고, 95 이상이면 A+, 90 이상 A, 85 이상 B+, 나머지 F로 출력하세요.\n",
        "\"\"\"\n",
        "\n",
        "# 중첩조건문 이용\n",
        "score = int(input(\"점수를 입력하세요: \"))\n",
        "\n",
        "if score >= 95:\n",
        "  print(\"A+학점입니다\")\n",
        "else:\n",
        "  if score >= 90:\n",
        "    print(\"A학점입니다\")\n",
        "  else:\n",
        "    if score >= 85:\n",
        "      print(\"B+학점입니다\")\n",
        "    else:\n",
        "      print(\"F학점입니다\")"
      ],
      "metadata": {
        "id": "3Mwk0vGz6-L_",
        "colab": {
          "base_uri": "https://localhost:8080/"
        },
        "outputId": "18f1640b-4a2f-4e27-ffea-e95b80f5d8b3"
      },
      "execution_count": null,
      "outputs": [
        {
          "output_type": "stream",
          "name": "stdout",
          "text": [
            "점수를 입력하세요: 95\n",
            "A+학점입니다\n"
          ]
        }
      ]
    },
    {
      "cell_type": "markdown",
      "source": [
        "## Ch05.string\n",
        "### String | 문자열\n",
        "- str type\n",
        "- 시스템에서 가장 작은 단위(차지하는 단위가 가장 작다는 뜻)\n",
        "- 불변적인 성격을 가짐(immutable)\n",
        "    - 'abcd' -> b -> a 바꿀 수 없다\n",
        "- 문법 : ' ', \" \"로 감싸면 모두 문자열\n",
        "    - 예: '24', 'True'\n",
        "-''' or \"\"\" => 긴 주석(여러 줄의 문자열)\n",
        "- 형 변환은 str()\n",
        "    - 예: str(20.2) => '20.2'\n",
        "- print()는 문자열 내 따옴표 제거 후 내용 출력 -> 출력할 문자열 사이에서 공백, 줄바꿈 추가 가능(default) -> 지난 시간 복습 내용\n",
        "\n",
        "\n",
        "### Escape character | 이스케이프 문자\n",
        "- 눈에 보이는 대로 인식되지 않는 문자열\n",
        "- 문법 : \\ + <character>\n",
        "- \\n, \\t, \\b, \\'\n",
        "- print()함수 쓰지 않으면 형태가 출력은 된다\n",
        "-'\\n'출력은 어떻게?\n",
        "   - `\\\\n`\n",
        "   - r'' (raw string)\n",
        "- 문자열을 바꾸는 것이 아니라 표면상의 형태를 말하는 것(그 내용이 변하지 않음)"
      ],
      "metadata": {
        "id": "TMzYwJWJnOpw"
      }
    },
    {
      "cell_type": "code",
      "source": [
        "print(\"hello\\bword\")\n",
        "# \\b(백스페이스), \\n(줄바꿈), \\t(탭)\n",
        "# \\b보다 \\n, \\t를 더 많이 사용함\n",
        "\n",
        "print('hello\\tworld. I\\'m python.')\n",
        "\n",
        "\"\"\"# single quote로 묶인 문장 안에서 single quote를 쓰고 싶다면 \n",
        "-> 이스케이프 문자 쓴 뒤 single quote 입력\"\"\"\n",
        "\n",
        "sent = 'hello\\tworld I\\'m a boy.'\n",
        "print(sent)"
      ],
      "metadata": {
        "colab": {
          "base_uri": "https://localhost:8080/"
        },
        "id": "T8C_mM-Co5pt",
        "outputId": "c7990069-adc6-418d-9013-79bf4273f1b7"
      },
      "execution_count": null,
      "outputs": [
        {
          "output_type": "stream",
          "name": "stdout",
          "text": [
            "hello\bword\n",
            "hello\tworld. I'm python.\n",
            "hello\tworld I'm a boy.\n"
          ]
        }
      ]
    },
    {
      "cell_type": "markdown",
      "source": [
        "### 연산\n",
        "- concatenation | 결합하기 (+)\n",
        "   - ' ' + ' ' => 붙이기\n",
        "   - 리터럴 문자열 또는 문자열 변수 결합 가능\n",
        "   - 괄호로 묶어 여러 줄에 출력하는 것도 가능\n",
        "   - 파이썬은 문자열 결합 시, 공백 없이 붙음\n",
        "   - print() 이용하면 공백을 붙임\n",
        "- 복제 (*)\n",
        "   - '' * 4 => 4번 반복\n",
        "   - `*`연산자는 `+`연산자보다 우선순위가 높음\n",
        "   - 복제 또한 문자열 결합 시, 공백 없이 붙음"
      ],
      "metadata": {
        "id": "eeOQ77HhqySR"
      }
    },
    {
      "cell_type": "code",
      "source": [
        "word = 'brain'\n",
        "print(word + word)   # 공백 없이 붙음\n",
        "\n",
        "print(word * 4)  # 복제 또한 공백 없이 붙음 "
      ],
      "metadata": {
        "colab": {
          "base_uri": "https://localhost:8080/"
        },
        "id": "1Za_PXlF1PFM",
        "outputId": "3a49c310-10ba-433c-cf32-465665f120c9"
      },
      "execution_count": null,
      "outputs": [
        {
          "output_type": "stream",
          "name": "stdout",
          "text": [
            "brainbrain\n",
            "brainbrainbrainbrain\n"
          ]
        }
      ]
    },
    {
      "cell_type": "code",
      "source": [
        "(sent\n",
        " + word + \"bye\"\n",
        " + 'python')"
      ],
      "metadata": {
        "colab": {
          "base_uri": "https://localhost:8080/",
          "height": 36
        },
        "id": "jKc1VcM7N74Y",
        "outputId": "4c0e69ab-f75e-40e4-86e2-9112a6f06cab"
      },
      "execution_count": null,
      "outputs": [
        {
          "output_type": "execute_result",
          "data": {
            "text/plain": [
              "\"hello\\tworld I'm a boy.brainbyepython\""
            ],
            "application/vnd.google.colaboratory.intrinsic+json": {
              "type": "string"
            }
          },
          "metadata": {},
          "execution_count": 102
        }
      ]
    },
    {
      "cell_type": "code",
      "source": [
        "\"My name is\" + \"Jake\"  # 연산 가능, but 공백 없이 붙기 때문에 비추천"
      ],
      "metadata": {
        "colab": {
          "base_uri": "https://localhost:8080/",
          "height": 36
        },
        "id": "KEI-Njhd1pAW",
        "outputId": "5fcf4501-eab6-49be-97e9-a65cc3874ece"
      },
      "execution_count": null,
      "outputs": [
        {
          "output_type": "execute_result",
          "data": {
            "text/plain": [
              "'My name isJake'"
            ],
            "application/vnd.google.colaboratory.intrinsic+json": {
              "type": "string"
            }
          },
          "metadata": {},
          "execution_count": 49
        }
      ]
    },
    {
      "cell_type": "markdown",
      "source": [
        "### Slicing\n",
        "- 지정 범위의 문자열을 추출하는 것\n",
        "- 문법: 대괄호 + 오프셋 이용 [offset]\n",
        "    - [start:end:step]\n",
        "- 오프셋은 항상 0부터 시작\n",
        "- start 포함, end 미포함 (크거나 같고, 작다)\n",
        "- 0일 경우 생략한다\n",
        "    - 예: ~4까지 출력한다 => [:5]\n",
        "- 처음부터 끝까지 전체 시퀀스 => [:]\n",
        "- start 오프셋부터 끝까지 => [start:]\n",
        "- 처음부터 (end-1)까지 => [:end]\n",
        "     -처음부터 끝까지 또다른 방법? => [:end+1]\n",
        "- start 오프셋부터 (end-1)오프셋까지 => [start:end]\n",
        "- 처음부터 끝까지 2스텝씩  => [::2]\n",
        "- 처음부터 끝까지 역순으로 추출 => [::-1]\n",
        "- 오프셋은 음수로도 가능하다(거꾸로 출력)\n",
        "- 음수일 때는 -1부터 시작이다\n",
        "- 문자열은 불변 -> 특정 인덱스에 문자 삽입, 변경 x => replace()나 슬라이스와 같은 문자열 함수 사용하여 변경 가능\n",
        "\n",
        "\n",
        "#### len() | 문자열 길이\n",
        "- lenth\n",
        "- 문자열의 길이를 세는 함수\n",
        "- 공백까지 모두 포함하여 센다."
      ],
      "metadata": {
        "id": "Emuatv0z14i7"
      }
    },
    {
      "cell_type": "code",
      "source": [
        "\"\"\"\n",
        "0 1 2 ,,\n",
        "h e l l o\n",
        "-5      -1  \"\"\""
      ],
      "metadata": {
        "colab": {
          "base_uri": "https://localhost:8080/",
          "height": 36
        },
        "id": "G1vy2HeH2aCU",
        "outputId": "35abc196-a0f7-4007-f5f1-1e3a9f7f4b3c"
      },
      "execution_count": null,
      "outputs": [
        {
          "output_type": "execute_result",
          "data": {
            "text/plain": [
              "'\\n0 1 2 ,,\\nh e l l o\\n-5      -1  '"
            ],
            "application/vnd.google.colaboratory.intrinsic+json": {
              "type": "string"
            }
          },
          "metadata": {},
          "execution_count": 51
        }
      ]
    },
    {
      "cell_type": "code",
      "source": [
        "python = 'python'; python, python[1]  # 2번째 글자  # 튜플 형식으로 출력"
      ],
      "metadata": {
        "colab": {
          "base_uri": "https://localhost:8080/"
        },
        "id": "Zq8OOlkv2086",
        "outputId": "237ddd10-7a18-4bc0-a74f-a399fceba1a7"
      },
      "execution_count": null,
      "outputs": [
        {
          "output_type": "execute_result",
          "data": {
            "text/plain": [
              "('python', 'y')"
            ]
          },
          "metadata": {},
          "execution_count": 57
        }
      ]
    },
    {
      "cell_type": "code",
      "source": [
        "python[3:4]   # 3번째 자리 숫자만 출력됨"
      ],
      "metadata": {
        "colab": {
          "base_uri": "https://localhost:8080/",
          "height": 36
        },
        "id": "9GJ-iokF3N4q",
        "outputId": "7c595915-439a-497b-9d35-82464fa43ee4"
      },
      "execution_count": null,
      "outputs": [
        {
          "output_type": "execute_result",
          "data": {
            "text/plain": [
              "'h'"
            ],
            "application/vnd.google.colaboratory.intrinsic+json": {
              "type": "string"
            }
          },
          "metadata": {},
          "execution_count": 59
        }
      ]
    },
    {
      "cell_type": "code",
      "source": [
        "python[:5]  # 처음부터(0번째 자리 숫자부터) 4번째 자리 숫자까지 출력"
      ],
      "metadata": {
        "colab": {
          "base_uri": "https://localhost:8080/",
          "height": 36
        },
        "id": "d1ownsIJ3nrW",
        "outputId": "b7af9898-68eb-493d-ab10-03c4ed8e364b"
      },
      "execution_count": null,
      "outputs": [
        {
          "output_type": "execute_result",
          "data": {
            "text/plain": [
              "'pytho'"
            ],
            "application/vnd.google.colaboratory.intrinsic+json": {
              "type": "string"
            }
          },
          "metadata": {},
          "execution_count": 60
        }
      ]
    },
    {
      "cell_type": "code",
      "source": [
        "sentence = \"hello I'm a student\"\n",
        "len(sentence)    # lenth(공백까지 포함하여 길이 측정)"
      ],
      "metadata": {
        "colab": {
          "base_uri": "https://localhost:8080/"
        },
        "id": "y6TrK2623yIs",
        "outputId": "f973ec1c-6077-42b5-9451-80b513b3350b"
      },
      "execution_count": null,
      "outputs": [
        {
          "output_type": "execute_result",
          "data": {
            "text/plain": [
              "19"
            ]
          },
          "metadata": {},
          "execution_count": 65
        }
      ]
    },
    {
      "cell_type": "code",
      "source": [
        "sentence[::2]   # 처음부터 끝까지 2스텝씩 건너뛰면서 추출"
      ],
      "metadata": {
        "colab": {
          "base_uri": "https://localhost:8080/",
          "height": 36
        },
        "id": "y3eOlJLw4oma",
        "outputId": "4fe3e126-15fb-4b56-f80f-b384e434e428"
      },
      "execution_count": null,
      "outputs": [
        {
          "output_type": "execute_result",
          "data": {
            "text/plain": [
              "'hloImasuet'"
            ],
            "application/vnd.google.colaboratory.intrinsic+json": {
              "type": "string"
            }
          },
          "metadata": {},
          "execution_count": 66
        }
      ]
    },
    {
      "cell_type": "code",
      "source": [
        "hello = 'hello'\n",
        "hello[::-1]   # 처음부터 끝까지 역순으로 추출"
      ],
      "metadata": {
        "colab": {
          "base_uri": "https://localhost:8080/",
          "height": 36
        },
        "id": "t71YFQdB6G7X",
        "outputId": "5b1be0c0-0eb3-412c-b86a-dbd9e2b71633"
      },
      "execution_count": null,
      "outputs": [
        {
          "output_type": "execute_result",
          "data": {
            "text/plain": [
              "'olleh'"
            ],
            "application/vnd.google.colaboratory.intrinsic+json": {
              "type": "string"
            }
          },
          "metadata": {},
          "execution_count": 67
        }
      ]
    },
    {
      "cell_type": "code",
      "source": [
        "# hello[2] = 'E'   # error -> 문자열은 불변하기 때문에 특정 인덱스에 문자 삽입, 변경 불가"
      ],
      "metadata": {
        "id": "eARQmj-x6TlI"
      },
      "execution_count": null,
      "outputs": []
    },
    {
      "cell_type": "markdown",
      "source": [
        "### NLTK\n",
        "- Natural Language Tool Kit\n",
        "- 교육용으로 개발된 자연어처리 패키지\n",
        "- 코퍼스 제공하며 어떤 처리가 되어 있다."
      ],
      "metadata": {
        "id": "1H77iLW49Jph"
      }
    },
    {
      "cell_type": "code",
      "source": [
        "!pip install nltk  # 터미널로 패키지 설치하는 코드"
      ],
      "metadata": {
        "colab": {
          "base_uri": "https://localhost:8080/"
        },
        "id": "CXEQpwuJ-VEI",
        "outputId": "7b034a31-c746-4431-8f08-d030188697fe"
      },
      "execution_count": 1,
      "outputs": [
        {
          "output_type": "stream",
          "name": "stdout",
          "text": [
            "Requirement already satisfied: nltk in /usr/local/lib/python3.7/dist-packages (3.2.5)\n",
            "Requirement already satisfied: six in /usr/local/lib/python3.7/dist-packages (from nltk) (1.15.0)\n"
          ]
        }
      ]
    },
    {
      "cell_type": "code",
      "source": [
        "import nltk\n",
        "nltk.download('book', quiet = True)  # 항상 dot(.)으로 접근"
      ],
      "metadata": {
        "colab": {
          "base_uri": "https://localhost:8080/"
        },
        "id": "Y7MTHtyb-gms",
        "outputId": "f9d0838c-05a1-44f3-928f-490567ad705b"
      },
      "execution_count": 2,
      "outputs": [
        {
          "output_type": "execute_result",
          "data": {
            "text/plain": [
              "True"
            ]
          },
          "metadata": {},
          "execution_count": 2
        }
      ]
    },
    {
      "cell_type": "code",
      "source": [
        "from nltk import book"
      ],
      "metadata": {
        "colab": {
          "base_uri": "https://localhost:8080/"
        },
        "id": "Ug-p6bp--2GZ",
        "outputId": "8aede36f-d51e-4558-ef26-7b936b74a6c8"
      },
      "execution_count": 3,
      "outputs": [
        {
          "output_type": "stream",
          "name": "stdout",
          "text": [
            "*** Introductory Examples for the NLTK Book ***\n",
            "Loading text1, ..., text9 and sent1, ..., sent9\n",
            "Type the name of the text or sentence to view it.\n",
            "Type: 'texts()' or 'sents()' to list the materials.\n",
            "text1: Moby Dick by Herman Melville 1851\n",
            "text2: Sense and Sensibility by Jane Austen 1811\n",
            "text3: The Book of Genesis\n",
            "text4: Inaugural Address Corpus\n",
            "text5: Chat Corpus\n",
            "text6: Monty Python and the Holy Grail\n",
            "text7: Wall Street Journal\n",
            "text8: Personals Corpus\n",
            "text9: The Man Who Was Thursday by G . K . Chesterton 1908\n"
          ]
        }
      ]
    },
    {
      "cell_type": "code",
      "source": [
        "moby = book.text1"
      ],
      "metadata": {
        "id": "fD2mPnFJ-8JZ"
      },
      "execution_count": 4,
      "outputs": []
    },
    {
      "cell_type": "code",
      "source": [
        "moby.tokens[:20]   # text1의 단어에 접근  # 슬라이싱 활용하여 20개까지만 나타내기\n",
        "\n",
        "# 토큰 -> 프로그래밍에서 정의하는 단어\n",
        "# \"I'm a boy.\" -> I'm, I am, I 'm (프로그래밍에서 어떻게 잘 접근할지 고민한 결과)"
      ],
      "metadata": {
        "colab": {
          "base_uri": "https://localhost:8080/"
        },
        "id": "WQIW2c2G_YUo",
        "outputId": "01455d8c-987a-4d7a-e111-b4909272ad83"
      },
      "execution_count": 5,
      "outputs": [
        {
          "output_type": "execute_result",
          "data": {
            "text/plain": [
              "['[',\n",
              " 'Moby',\n",
              " 'Dick',\n",
              " 'by',\n",
              " 'Herman',\n",
              " 'Melville',\n",
              " '1851',\n",
              " ']',\n",
              " 'ETYMOLOGY',\n",
              " '.',\n",
              " '(',\n",
              " 'Supplied',\n",
              " 'by',\n",
              " 'a',\n",
              " 'Late',\n",
              " 'Consumptive',\n",
              " 'Usher',\n",
              " 'to',\n",
              " 'a',\n",
              " 'Grammar']"
            ]
          },
          "metadata": {},
          "execution_count": 5
        }
      ]
    },
    {
      "cell_type": "code",
      "source": [
        "# 총 길이\n",
        "len(moby.tokens)"
      ],
      "metadata": {
        "colab": {
          "base_uri": "https://localhost:8080/"
        },
        "id": "lj2sB-3i_msM",
        "outputId": "802b1cc6-ad2a-4c11-ad1b-a563d322c33b"
      },
      "execution_count": 6,
      "outputs": [
        {
          "output_type": "execute_result",
          "data": {
            "text/plain": [
              "260819"
            ]
          },
          "metadata": {},
          "execution_count": 6
        }
      ]
    },
    {
      "cell_type": "code",
      "source": [
        "# 중복되는 단어 걸러내기\n",
        "set(moby.tokens)"
      ],
      "metadata": {
        "colab": {
          "base_uri": "https://localhost:8080/"
        },
        "id": "Y6aD5Uhn_q6M",
        "outputId": "c74a6507-196a-4c53-b2f9-bc3e5139ead6"
      },
      "execution_count": 7,
      "outputs": [
        {
          "output_type": "execute_result",
          "data": {
            "text/plain": [
              "{'sapling',\n",
              " 'circlings',\n",
              " 'unrecorded',\n",
              " 'prey',\n",
              " 'argue',\n",
              " 'polar',\n",
              " 'Cellini',\n",
              " 'reversing',\n",
              " 'casements',\n",
              " 'recondite',\n",
              " 'monstrousest',\n",
              " 'shinbone',\n",
              " 'back',\n",
              " 'purposeless',\n",
              " 'Aloft',\n",
              " 'HERBERT',\n",
              " 'restricting',\n",
              " 'cultured',\n",
              " 'hook',\n",
              " 'deadly',\n",
              " 'steers',\n",
              " 'drift',\n",
              " 'tilt',\n",
              " 'Aquarius',\n",
              " 'bilious',\n",
              " 'panels',\n",
              " 'ineffably',\n",
              " 'brows',\n",
              " 'loads',\n",
              " 'corpusants',\n",
              " 'rumbling',\n",
              " 'statutory',\n",
              " 'hereafters',\n",
              " 'soliloquizer',\n",
              " 'Boat',\n",
              " 'lurking',\n",
              " 'Sheet',\n",
              " 'popular',\n",
              " 'lexicographer',\n",
              " 'shan',\n",
              " 'destructive',\n",
              " 'wine',\n",
              " 'flag',\n",
              " 'slope',\n",
              " 'coral',\n",
              " 'neighbors',\n",
              " 'ONE',\n",
              " 'interminable',\n",
              " 'frigate',\n",
              " 'warning',\n",
              " 'pie',\n",
              " 'CHOP',\n",
              " 'gave',\n",
              " 'declining',\n",
              " 'outlandish',\n",
              " 'incline',\n",
              " 'Off',\n",
              " 'grab',\n",
              " 'uncheered',\n",
              " 'emboldened',\n",
              " 'sloping',\n",
              " 'Lent',\n",
              " 'watchmakers',\n",
              " 'considerable',\n",
              " 'BETWEEN',\n",
              " 'tragedies',\n",
              " 'standing',\n",
              " '.--',\n",
              " 'religions',\n",
              " 'foggy',\n",
              " 'Plain',\n",
              " 'Spaniard',\n",
              " 'pendulum',\n",
              " 'enforced',\n",
              " 'stoven',\n",
              " 'repulses',\n",
              " 'cap',\n",
              " 'pike',\n",
              " 'whaleboning',\n",
              " 'bended',\n",
              " 'rouses',\n",
              " 'Pannangians',\n",
              " 'send',\n",
              " 'numberless',\n",
              " 'teachings',\n",
              " 'whirlpool',\n",
              " 'disbands',\n",
              " 'browed',\n",
              " 'cowards',\n",
              " 'Tic',\n",
              " 'extremely',\n",
              " 'From',\n",
              " 'pitchpoling',\n",
              " 'footpath',\n",
              " 'dried',\n",
              " 'spire',\n",
              " 'vicinities',\n",
              " 'Cinque',\n",
              " 'ironical',\n",
              " 'ghastliness',\n",
              " 'loom',\n",
              " 'bulks',\n",
              " 'rarities',\n",
              " 'bedfellow',\n",
              " 'sky',\n",
              " 'SACRED',\n",
              " 'Milky',\n",
              " 'emetic',\n",
              " 'tinkling',\n",
              " 'ribby',\n",
              " 'poisonous',\n",
              " 'banners',\n",
              " 'familiarity',\n",
              " 'buckskin',\n",
              " 'satisfaction',\n",
              " 'socket',\n",
              " 'bluish',\n",
              " 'As',\n",
              " 'barbarian',\n",
              " 'migrations',\n",
              " 'headmost',\n",
              " 'Matsmai',\n",
              " 'sage',\n",
              " 'fumbling',\n",
              " 'JAGO',\n",
              " 'amputating',\n",
              " 'eyeless',\n",
              " '890',\n",
              " 'portentous',\n",
              " 'sociable',\n",
              " 'providing',\n",
              " 'Bay',\n",
              " 'Form',\n",
              " 'spademan',\n",
              " 'dictionary',\n",
              " 'Roll',\n",
              " 'Goa',\n",
              " 'voracious',\n",
              " 'kept',\n",
              " 'ends',\n",
              " 'remonstrate',\n",
              " 'Goat',\n",
              " 'thief',\n",
              " 'Threading',\n",
              " 'nevertheless',\n",
              " 'sing',\n",
              " 'neared',\n",
              " 'providentially',\n",
              " 'anew',\n",
              " 'filling',\n",
              " 'inelegant',\n",
              " 'accompanies',\n",
              " 'pointing',\n",
              " 'transports',\n",
              " 'executed',\n",
              " 'undecided',\n",
              " 'wee',\n",
              " 'thickening',\n",
              " 'childish',\n",
              " 'crawling',\n",
              " 'cannikin',\n",
              " 'quarrelsome',\n",
              " 'assisted',\n",
              " 'resist',\n",
              " 'scan',\n",
              " 'Plata',\n",
              " 'cenotaphs',\n",
              " '105',\n",
              " 'beholding',\n",
              " 'strove',\n",
              " 'wearisome',\n",
              " 'again',\n",
              " 'eyelashes',\n",
              " 'lawyers',\n",
              " 'decency',\n",
              " 'unconquerable',\n",
              " 'dandies',\n",
              " 'That',\n",
              " 'purposing',\n",
              " 'celebrated',\n",
              " 'They',\n",
              " 'candidates',\n",
              " 'counsellors',\n",
              " 'tin',\n",
              " 'wittiness',\n",
              " 'recurring',\n",
              " 'distinguish',\n",
              " 'fry',\n",
              " 'MISSIONARY',\n",
              " 'elucidated',\n",
              " 'useless',\n",
              " 'lashing',\n",
              " 'prospect',\n",
              " 'indifferent',\n",
              " 'paddle',\n",
              " 'whitest',\n",
              " 'guides',\n",
              " 'amen',\n",
              " 'lie',\n",
              " 'anxieties',\n",
              " 'forgetfulness',\n",
              " 'cares',\n",
              " 'inhospitable',\n",
              " 'tubes',\n",
              " 'artificial',\n",
              " 'success',\n",
              " 'persuasion',\n",
              " 'fatal',\n",
              " 'apprehensiveness',\n",
              " 'differs',\n",
              " 'knowingly',\n",
              " '82',\n",
              " 'bumpkin',\n",
              " 'baton',\n",
              " 'insane',\n",
              " 'five',\n",
              " 'swashing',\n",
              " 'Rondeletius',\n",
              " 'lick',\n",
              " 'whalebone',\n",
              " 'spile',\n",
              " 'soaked',\n",
              " 'Locke',\n",
              " 'paddled',\n",
              " 'king',\n",
              " 'acquiesced',\n",
              " 'HACKLUYT',\n",
              " 'without',\n",
              " 'unvitiated',\n",
              " 'chance',\n",
              " 'swing',\n",
              " 'reference',\n",
              " 'Also',\n",
              " 'weekly',\n",
              " 'Hunter',\n",
              " 'but',\n",
              " 'has',\n",
              " 'expedition',\n",
              " 'undetached',\n",
              " 'exemplary',\n",
              " 'benevolently',\n",
              " 'exciting',\n",
              " 'Swackhammer',\n",
              " 'jointed',\n",
              " 'genus',\n",
              " '?\"--',\n",
              " 'killing',\n",
              " 'unintermitted',\n",
              " 'maples',\n",
              " 'pockets',\n",
              " 'butchers',\n",
              " 'goal',\n",
              " 'west',\n",
              " 'trance',\n",
              " 'doxology',\n",
              " 'laugheth',\n",
              " 'afternoons',\n",
              " 'befall',\n",
              " 'either',\n",
              " 'Plate',\n",
              " 'mottled',\n",
              " 'hark',\n",
              " 'framework',\n",
              " 'joker',\n",
              " 'doesn',\n",
              " 'situation',\n",
              " 'prefigured',\n",
              " 'COOPER',\n",
              " 'dropped',\n",
              " 'innuendoes',\n",
              " 'Afterwards',\n",
              " 'comply',\n",
              " 'exposed',\n",
              " 'seal',\n",
              " 'Hardly',\n",
              " 'mower',\n",
              " 'putting',\n",
              " 'proposed',\n",
              " 'Kedron',\n",
              " 'locker',\n",
              " 'Apoplexy',\n",
              " 'puncheons',\n",
              " 'willingly',\n",
              " 'temperance',\n",
              " 'steed',\n",
              " 'SAILORS',\n",
              " 'BARON',\n",
              " 'reposing',\n",
              " 'chick',\n",
              " 'grappling',\n",
              " 'most',\n",
              " 'Arter',\n",
              " 'unnaturally',\n",
              " 'profundity',\n",
              " 'velvet',\n",
              " 'boilers',\n",
              " 'designs',\n",
              " 'Adios',\n",
              " 'resplendent',\n",
              " 'ineffectual',\n",
              " 'ticking',\n",
              " 'southward',\n",
              " 'pounce',\n",
              " 'demonstrable',\n",
              " 'landscape',\n",
              " 'CHEEVER',\n",
              " 'unastonished',\n",
              " 'eyed',\n",
              " 'reverberations',\n",
              " 'movements',\n",
              " 'Measurement',\n",
              " 'several',\n",
              " 'operated',\n",
              " 'walls',\n",
              " 'famine',\n",
              " 'permitting',\n",
              " 'superstitiousness',\n",
              " 'by',\n",
              " 'parmacetty',\n",
              " 'high',\n",
              " 'Why',\n",
              " 'mishap',\n",
              " 'reprimand',\n",
              " 'wonderful',\n",
              " 'fashions',\n",
              " 'communicated',\n",
              " 'morn',\n",
              " 'dare',\n",
              " 'LARGE',\n",
              " 'presence',\n",
              " 'dishes',\n",
              " 'spying',\n",
              " 'depending',\n",
              " 'CHEERLY',\n",
              " 'scaled',\n",
              " 'determining',\n",
              " 'raised',\n",
              " 'Sw',\n",
              " 'aloft',\n",
              " 'deposed',\n",
              " 'arctic',\n",
              " 'Born',\n",
              " 'dies',\n",
              " 'sharpen',\n",
              " 'stop',\n",
              " 'perpendicular',\n",
              " 'vomit',\n",
              " 'destroying',\n",
              " 'blubbering',\n",
              " 'rented',\n",
              " 'clinging',\n",
              " 'Hell',\n",
              " 'pudding',\n",
              " 'Taurus',\n",
              " 'redder',\n",
              " 'indestructible',\n",
              " 'idolator',\n",
              " 'pilgrim',\n",
              " 'dig',\n",
              " 'Haul',\n",
              " 'persecutions',\n",
              " 'watchman',\n",
              " 'wake',\n",
              " 'gilt',\n",
              " 'unalloyed',\n",
              " 'bowstring',\n",
              " 'particles',\n",
              " 'filliping',\n",
              " 'creeping',\n",
              " 'spheres',\n",
              " 'maimed',\n",
              " 'Righteousness',\n",
              " 'bedsteads',\n",
              " 'attested',\n",
              " 'visitors',\n",
              " 'box',\n",
              " 'gregarious',\n",
              " 'exists',\n",
              " 'Tashtego',\n",
              " 'merging',\n",
              " 'motions',\n",
              " 'fly',\n",
              " 'heigh',\n",
              " 'plums',\n",
              " 'blighted',\n",
              " 'mazy',\n",
              " 'Pip',\n",
              " 'mention',\n",
              " 'Mysteriously',\n",
              " 'Stone',\n",
              " 'superseded',\n",
              " 'repaired',\n",
              " 'flexion',\n",
              " 'Lighting',\n",
              " 'sledge',\n",
              " 'drink',\n",
              " 'distinctions',\n",
              " 'vastly',\n",
              " 'needed',\n",
              " 'Manxman',\n",
              " 'chip',\n",
              " 'Dunfermline',\n",
              " 'busy',\n",
              " 'first',\n",
              " 'will',\n",
              " 'curtains',\n",
              " 'negroes',\n",
              " 'squatted',\n",
              " 'brawny',\n",
              " 'Secretary',\n",
              " 'fixed',\n",
              " 'grimness',\n",
              " 'elks',\n",
              " 'boon',\n",
              " 'withstand',\n",
              " 'tinker',\n",
              " 'archiepiscopacy',\n",
              " 'SETH',\n",
              " 'denominated',\n",
              " 'roared',\n",
              " 'sauntering',\n",
              " 'widowed',\n",
              " 'Lavater',\n",
              " 'buffaloes',\n",
              " 'routed',\n",
              " 'pair',\n",
              " 'toilings',\n",
              " 'fishery',\n",
              " 'blades',\n",
              " 'unpleasant',\n",
              " 'judging',\n",
              " 'Pottowottamie',\n",
              " 'exchange',\n",
              " 'bubbled',\n",
              " 'maned',\n",
              " 'paws',\n",
              " 'protrusion',\n",
              " 'reddened',\n",
              " 'tail',\n",
              " 'widows',\n",
              " 'justly',\n",
              " 'interdicted',\n",
              " 'roly',\n",
              " 'substitute',\n",
              " 'rigorous',\n",
              " 'REQUIN',\n",
              " 'interpreters',\n",
              " 'distension',\n",
              " 'stiffest',\n",
              " 'advice',\n",
              " 'subtile',\n",
              " 'Affidavit',\n",
              " 'curing',\n",
              " 'surest',\n",
              " 'tasseled',\n",
              " 'hitherto',\n",
              " 'honouring',\n",
              " 'Cato',\n",
              " 'cobs',\n",
              " 'esteemeth',\n",
              " 'rex',\n",
              " 'languid',\n",
              " 'triply',\n",
              " 'Light',\n",
              " 'bowled',\n",
              " 'douse',\n",
              " 'bladders',\n",
              " 'miscellaneously',\n",
              " 'elated',\n",
              " 'Del',\n",
              " 'umbrella',\n",
              " 'sounded',\n",
              " 'hard',\n",
              " 'Boomer',\n",
              " 'refreshing',\n",
              " 'tallest',\n",
              " 'icicles',\n",
              " 'chiefs',\n",
              " 'fidelity',\n",
              " 'errand',\n",
              " 'Assaulted',\n",
              " 'Paean',\n",
              " 'Haarlem',\n",
              " 'vapours',\n",
              " 'insect',\n",
              " 'Basilosaurus',\n",
              " 'at',\n",
              " 'tongue',\n",
              " 'Snatch',\n",
              " 'indefinite',\n",
              " 'Steed',\n",
              " 'Negro',\n",
              " 'evade',\n",
              " 'bowline',\n",
              " 'involving',\n",
              " 'finny',\n",
              " 'Central',\n",
              " 'KILLER',\n",
              " 'Nightgown',\n",
              " 'cared',\n",
              " 'gloriously',\n",
              " 'surveillance',\n",
              " 'depends',\n",
              " 'olden',\n",
              " 'Fat',\n",
              " 'transferring',\n",
              " 'Needle',\n",
              " 'doubt',\n",
              " 'preeminence',\n",
              " 'Pandects',\n",
              " 'earlier',\n",
              " 'lends',\n",
              " 'gallantry',\n",
              " 'victor',\n",
              " 'crosses',\n",
              " 'peep',\n",
              " 'withholding',\n",
              " '45',\n",
              " 'slapped',\n",
              " 'apply',\n",
              " 'sway',\n",
              " 'happen',\n",
              " 'ultimatum',\n",
              " 'savory',\n",
              " 'assist',\n",
              " 'And',\n",
              " 'oblong',\n",
              " 'linear',\n",
              " 'hallowed',\n",
              " 'GROUND',\n",
              " 'employ',\n",
              " 'career',\n",
              " 'slung',\n",
              " 'goat',\n",
              " 'Frobisher',\n",
              " 'admeasurement',\n",
              " 'superstitious',\n",
              " 'prudently',\n",
              " 'according',\n",
              " 'dimensioned',\n",
              " 'tranquillity',\n",
              " 'RIGHT',\n",
              " 'constantly',\n",
              " 'tooth',\n",
              " 'ocean',\n",
              " 'ascended',\n",
              " 'Falsehood',\n",
              " 'Bastille',\n",
              " 'knows',\n",
              " 'descend',\n",
              " 'mastering',\n",
              " 'Vancouver',\n",
              " 'Flounders',\n",
              " 'past',\n",
              " 'bosky',\n",
              " 'greatly',\n",
              " 'groupings',\n",
              " 'Crowding',\n",
              " 'leviathan',\n",
              " 'surpasses',\n",
              " 'ended',\n",
              " 'concerns',\n",
              " 'right',\n",
              " 'mood',\n",
              " 'assured',\n",
              " 'abound',\n",
              " 'Monsoons',\n",
              " 'progress',\n",
              " 'oddish',\n",
              " 'embraced',\n",
              " 'whaleship',\n",
              " 'limit',\n",
              " 'duelled',\n",
              " 'treasures',\n",
              " 'perception',\n",
              " 'heated',\n",
              " 'presaging',\n",
              " 'thunderings',\n",
              " 'continuous',\n",
              " 'bolts',\n",
              " 'freight',\n",
              " 'crowd',\n",
              " 'tested',\n",
              " 'token',\n",
              " 'recover',\n",
              " 'downtown',\n",
              " 'production',\n",
              " 'adroit',\n",
              " 'royalty',\n",
              " 'duskier',\n",
              " 'asylum',\n",
              " 'heard',\n",
              " 'Cod',\n",
              " 'drawbacks',\n",
              " 'solitudes',\n",
              " 'reduced',\n",
              " 'SUMMER',\n",
              " 'voracity',\n",
              " 'multiply',\n",
              " 'indite',\n",
              " 'Smut',\n",
              " 'pooh',\n",
              " 'rebellion',\n",
              " 'strikingly',\n",
              " 'mediums',\n",
              " 'mizentop',\n",
              " 'remembered',\n",
              " 'hasty',\n",
              " 'gathered',\n",
              " 'twitched',\n",
              " 'cells',\n",
              " 'Potluck',\n",
              " 'glistening',\n",
              " 'Santa',\n",
              " 'BURST',\n",
              " 'remorse',\n",
              " 'defunct',\n",
              " 'sheds',\n",
              " 'Sailing',\n",
              " 'potentially',\n",
              " 'Maury',\n",
              " 'bumping',\n",
              " 'ply',\n",
              " 'render',\n",
              " 'amusing',\n",
              " 'mum',\n",
              " 'distrusting',\n",
              " 'rough',\n",
              " 'deem',\n",
              " 'station',\n",
              " 'trackless',\n",
              " 'snore',\n",
              " 'deadliest',\n",
              " 'concealed',\n",
              " 'Spanish',\n",
              " 'unwarrantable',\n",
              " 'fierce',\n",
              " 'Jump',\n",
              " 'parts',\n",
              " 'unfitted',\n",
              " 'muskiness',\n",
              " 'creeps',\n",
              " 'states',\n",
              " 'quenchless',\n",
              " 'loose',\n",
              " 'halter',\n",
              " 'emerged',\n",
              " 'keen',\n",
              " 'pinny',\n",
              " 'Castaway',\n",
              " 'unusable',\n",
              " 'shuddering',\n",
              " 'Bunyan',\n",
              " 'calms',\n",
              " 'flaky',\n",
              " 'Euroclydon',\n",
              " 'palmed',\n",
              " 'pumping',\n",
              " 'OR',\n",
              " 'frontispiece',\n",
              " 'sinker',\n",
              " 'elbow',\n",
              " 'conspicuously',\n",
              " 'nooses',\n",
              " 'Aladdin',\n",
              " 'fathom',\n",
              " 'poly',\n",
              " 'kidnapped',\n",
              " 'soil',\n",
              " 'vision',\n",
              " 'arrow',\n",
              " 'celebrate',\n",
              " 'threw',\n",
              " 'Canallers',\n",
              " 'brings',\n",
              " 'fencer',\n",
              " 'immemorial',\n",
              " 'COMES',\n",
              " 'backwardly',\n",
              " 'dispute',\n",
              " 'Church',\n",
              " 'undertaken',\n",
              " 'abstracted',\n",
              " 'Arkansas',\n",
              " 'things',\n",
              " 'funny',\n",
              " 'comrade',\n",
              " 'reproachfully',\n",
              " 'bookbinder',\n",
              " 'swears',\n",
              " 'acted',\n",
              " 'touches',\n",
              " 'shrouds',\n",
              " 'PIP',\n",
              " 'sequential',\n",
              " 'huzza',\n",
              " 'skirra',\n",
              " 'taking',\n",
              " 'story',\n",
              " 'brigs',\n",
              " 'shields',\n",
              " 'marshy',\n",
              " 'pardon',\n",
              " 'capstans',\n",
              " 'digesting',\n",
              " 'headed',\n",
              " 'branches',\n",
              " 'dawn',\n",
              " 'brief',\n",
              " 'deliberately',\n",
              " 'aback',\n",
              " 'tackle',\n",
              " 'TAMBOURINE',\n",
              " 'awaited',\n",
              " '1842',\n",
              " 'phrenologically',\n",
              " 'capable',\n",
              " 'Rarmai',\n",
              " 'characters',\n",
              " 'rank',\n",
              " 'Quito',\n",
              " 'Thinking',\n",
              " 'necklace',\n",
              " 'bats',\n",
              " 'contrivance',\n",
              " 'Bosom',\n",
              " 'warnings',\n",
              " 'roofs',\n",
              " 'adieux',\n",
              " 'jeopardy',\n",
              " 'Heaven',\n",
              " 'health',\n",
              " 'palpably',\n",
              " 'invests',\n",
              " 'breathes',\n",
              " 'bartering',\n",
              " 'Rousseau',\n",
              " 'partially',\n",
              " 'silences',\n",
              " 'expertness',\n",
              " 'ingenious',\n",
              " 'salutes',\n",
              " 'marl',\n",
              " 'Cannon',\n",
              " 'tells',\n",
              " 'insatiate',\n",
              " 'invitingly',\n",
              " 'cultivate',\n",
              " 'pox',\n",
              " 'bakers',\n",
              " 'impulsively',\n",
              " 'partner',\n",
              " 'sulkies',\n",
              " 'juices',\n",
              " 'TOP',\n",
              " 'stratagem',\n",
              " 'stared',\n",
              " 'contrasting',\n",
              " 'openly',\n",
              " 'economic',\n",
              " 'sink',\n",
              " 'FOR',\n",
              " 'abstract',\n",
              " 'fading',\n",
              " 'cascading',\n",
              " 'disposition',\n",
              " 'ruins',\n",
              " 'Whaleman',\n",
              " 'rescued',\n",
              " 'imputation',\n",
              " 'Dante',\n",
              " 'expatiate',\n",
              " 'chips',\n",
              " 'WHAT',\n",
              " 'garter',\n",
              " 'soberly',\n",
              " 'bleak',\n",
              " 'hazel',\n",
              " 'shortly',\n",
              " 'momentarily',\n",
              " 'heeding',\n",
              " '90',\n",
              " 'liturgies',\n",
              " 'somewhere',\n",
              " 'symmetry',\n",
              " 'viol',\n",
              " 'rapid',\n",
              " 'struggles',\n",
              " 'dined',\n",
              " 'spirit',\n",
              " 'arms',\n",
              " 'catcher',\n",
              " 'direful',\n",
              " 'broker',\n",
              " 'faced',\n",
              " 'picked',\n",
              " 'Under',\n",
              " 'Wolf',\n",
              " 'HAS',\n",
              " 'nuptial',\n",
              " 'tusked',\n",
              " 'Tit',\n",
              " 'numerous',\n",
              " 'boom',\n",
              " 'amber',\n",
              " 'naturally',\n",
              " 'humbly',\n",
              " 'fatalists',\n",
              " 'fancy',\n",
              " '69',\n",
              " 'labyrinth',\n",
              " 'sleeplessness',\n",
              " 'gifts',\n",
              " 'sustained',\n",
              " 'after',\n",
              " 'showed',\n",
              " 'wolves',\n",
              " 'stunsails',\n",
              " 'interpreted',\n",
              " 'Aunt',\n",
              " 'evinced',\n",
              " 'witchery',\n",
              " 'travelled',\n",
              " 'accuracy',\n",
              " 'hereditarily',\n",
              " 'hospital',\n",
              " 'loan',\n",
              " 'boot',\n",
              " 'underlings',\n",
              " 'stairs',\n",
              " 'acquaintance',\n",
              " 'Despairing',\n",
              " 'formations',\n",
              " 'Alone',\n",
              " 'grandmother',\n",
              " 'proclaimed',\n",
              " 'harvest',\n",
              " 'HALF',\n",
              " 'contained',\n",
              " 'discoveries',\n",
              " 'arrives',\n",
              " 'twisted',\n",
              " 'surcoat',\n",
              " 'planting',\n",
              " 'marshals',\n",
              " 'Bargain',\n",
              " 'grapple',\n",
              " 'impossibility',\n",
              " 'Sumatra',\n",
              " 'inlayings',\n",
              " 'gowns',\n",
              " 'harpooner',\n",
              " 'flake',\n",
              " 'Hurriedly',\n",
              " 'empire',\n",
              " 'druggs',\n",
              " 'await',\n",
              " 'luff',\n",
              " 'Cannibal',\n",
              " 'Soon',\n",
              " 'Coppered',\n",
              " 'crater',\n",
              " 'hindmost',\n",
              " 'contrivances',\n",
              " 'polite',\n",
              " 'primers',\n",
              " 'contented',\n",
              " 'fishing',\n",
              " 'sharp',\n",
              " 'Jonathan',\n",
              " 'favour',\n",
              " 'eau',\n",
              " 'soften',\n",
              " 'deepest',\n",
              " 'secrets',\n",
              " 'orthodoxy',\n",
              " 'Split',\n",
              " 'sown',\n",
              " 'lees',\n",
              " 'peninsula',\n",
              " 'stubbornly',\n",
              " 'invite',\n",
              " 'injury',\n",
              " 'Glancing',\n",
              " 'vintages',\n",
              " 'patron',\n",
              " 'subjected',\n",
              " 'nightly',\n",
              " 'Read',\n",
              " '$',\n",
              " 'proverbially',\n",
              " 'seminal',\n",
              " 'dragged',\n",
              " 'Below',\n",
              " 'delude',\n",
              " 'ex',\n",
              " 'defied',\n",
              " 'bewitched',\n",
              " 'devilish',\n",
              " 'Hurrah',\n",
              " 'discovered',\n",
              " 'betokening',\n",
              " 'scrouge',\n",
              " 'brushwood',\n",
              " 'easy',\n",
              " 'stumbling',\n",
              " 'ruggedness',\n",
              " 'waterspout',\n",
              " 'unmanageably',\n",
              " 'unentered',\n",
              " 'pit',\n",
              " 'Terra',\n",
              " 'willingness',\n",
              " 'eleven',\n",
              " '?\"',\n",
              " 'Zoology',\n",
              " 'fifteen',\n",
              " 'heaps',\n",
              " 'chuckled',\n",
              " 'Immediately',\n",
              " 'eaten',\n",
              " 'ferociousness',\n",
              " 'Cabaco',\n",
              " 'fireside',\n",
              " 'marline',\n",
              " 'miniatures',\n",
              " 'churning',\n",
              " 'breasted',\n",
              " 'scores',\n",
              " 'Water',\n",
              " 'modes',\n",
              " 'striding',\n",
              " 'wealthy',\n",
              " 'American',\n",
              " 'sin',\n",
              " 'lawless',\n",
              " 'tapered',\n",
              " 'peltry',\n",
              " 'Carthage',\n",
              " 'whip',\n",
              " 'still',\n",
              " 'mist',\n",
              " 'vacation',\n",
              " 'melting',\n",
              " 'Bethink',\n",
              " 'majestically',\n",
              " 'generations',\n",
              " 'Thrasher',\n",
              " 'intimate',\n",
              " 'MOUTHED',\n",
              " 'mong',\n",
              " 'protesting',\n",
              " 'hintings',\n",
              " 'virtues',\n",
              " 'sensation',\n",
              " 'thinnest',\n",
              " 'slappin',\n",
              " 'forging',\n",
              " 'depart',\n",
              " 'Gamming',\n",
              " 'domineered',\n",
              " 'hear',\n",
              " 'wards',\n",
              " 'Cruising',\n",
              " 'horse',\n",
              " 'imagination',\n",
              " 'bland',\n",
              " 'jelly',\n",
              " 'magnificent',\n",
              " 'prouder',\n",
              " 'supposes',\n",
              " 'Free',\n",
              " 'wire',\n",
              " 'repels',\n",
              " 'dismembered',\n",
              " 'accomplishing',\n",
              " 'hearse',\n",
              " 'stomach',\n",
              " 'Michigan',\n",
              " 'disadvantage',\n",
              " 'fountain',\n",
              " 'fiends',\n",
              " 'landing',\n",
              " 'wide',\n",
              " 'punctual',\n",
              " 'governed',\n",
              " 'carlines',\n",
              " 'mystically',\n",
              " 'eighteen',\n",
              " 'amid',\n",
              " 'pitch',\n",
              " 'intents',\n",
              " 'King',\n",
              " 'gross',\n",
              " 'breeding',\n",
              " 'billion',\n",
              " 'sceptical',\n",
              " 'WINDOW',\n",
              " 'chapel',\n",
              " 'cartload',\n",
              " ...}"
            ]
          },
          "metadata": {},
          "execution_count": 7
        }
      ]
    },
    {
      "cell_type": "code",
      "source": [
        "# 중복되는 단어 걸러낸 후 단어 개수\n",
        "len(set(moby.tokens))"
      ],
      "metadata": {
        "colab": {
          "base_uri": "https://localhost:8080/"
        },
        "id": "0avZUBfE_xW6",
        "outputId": "f9d42a20-2ef0-47d4-a65b-6effa03f3b17"
      },
      "execution_count": 8,
      "outputs": [
        {
          "output_type": "execute_result",
          "data": {
            "text/plain": [
              "19317"
            ]
          },
          "metadata": {},
          "execution_count": 8
        }
      ]
    },
    {
      "cell_type": "markdown",
      "source": [
        "- set\n",
        "   - {a,b,c,d,...}\n",
        "   - 중복 불가능 -> 중복되는 단어를 set으로 걸러내기 때문\n",
        "   - 수학의 집합과 동일한 개념\n",
        "   - 순서가 없음 -> 슬라이싱 불가능\n",
        "\n",
        "- list\n",
        "   - [a,b,c,d,...]\n",
        "   - 중복 가능\n",
        "   - 순서 있음 -> 슬라이싱 가능\n",
        "\n",
        "- sorted\n",
        "   - 오름차순, 내림차순으로 정렬"
      ],
      "metadata": {
        "id": "EPSgaP2O_8u8"
      }
    },
    {
      "cell_type": "code",
      "source": [
        "cars = ['kia', 'benz', 'porsche','kia']\n",
        "set(cars)"
      ],
      "metadata": {
        "colab": {
          "base_uri": "https://localhost:8080/"
        },
        "id": "HjmfAqQxAA2y",
        "outputId": "3cace456-b1e1-4da9-9ac2-180deb3e5d87"
      },
      "execution_count": 9,
      "outputs": [
        {
          "output_type": "execute_result",
          "data": {
            "text/plain": [
              "{'benz', 'kia', 'porsche'}"
            ]
          },
          "metadata": {},
          "execution_count": 9
        }
      ]
    },
    {
      "cell_type": "code",
      "source": [
        "# lexical diversity\n",
        "len(set(moby.tokens)) / len(moby.tokens)"
      ],
      "metadata": {
        "colab": {
          "base_uri": "https://localhost:8080/"
        },
        "id": "2shmOnHUALQP",
        "outputId": "2a516189-8141-45ff-f97a-86865d2abe30"
      },
      "execution_count": 10,
      "outputs": [
        {
          "output_type": "execute_result",
          "data": {
            "text/plain": [
              "0.07406285585022564"
            ]
          },
          "metadata": {},
          "execution_count": 10
        }
      ]
    },
    {
      "cell_type": "code",
      "source": [
        "# 오름차순, 내림차순 정렬\n",
        "sorted(cars, reverse = True)"
      ],
      "metadata": {
        "colab": {
          "base_uri": "https://localhost:8080/"
        },
        "id": "757Y4-XJA5Y5",
        "outputId": "1278b250-0843-42e5-d768-d04470804756"
      },
      "execution_count": 11,
      "outputs": [
        {
          "output_type": "execute_result",
          "data": {
            "text/plain": [
              "['porsche', 'kia', 'kia', 'benz']"
            ]
          },
          "metadata": {},
          "execution_count": 11
        }
      ]
    },
    {
      "cell_type": "code",
      "source": [
        "# mobidick 정렬하기\n",
        "# 문장부호 -> 숫자 -> 대문자 -> 소문자 순으로 나열됨\n",
        "sorted(set(moby.tokens), reverse = True)[:10]  \n",
        "# 많은 단어들을 전부 다 나열하지 말고 슬라이싱해서 올리기"
      ],
      "metadata": {
        "colab": {
          "base_uri": "https://localhost:8080/"
        },
        "id": "n-Rrv3UjA79R",
        "outputId": "7a353b66-1308-488f-ede5-c4286b6a8113"
      },
      "execution_count": 12,
      "outputs": [
        {
          "output_type": "execute_result",
          "data": {
            "text/plain": [
              "['zoology',\n",
              " 'zones',\n",
              " 'zoned',\n",
              " 'zone',\n",
              " 'zodiac',\n",
              " 'zig',\n",
              " 'zephyr',\n",
              " 'zeal',\n",
              " 'zay',\n",
              " 'zag']"
            ]
          },
          "metadata": {},
          "execution_count": 12
        }
      ]
    },
    {
      "cell_type": "markdown",
      "source": [
        "#### Quiz 1.\n",
        "- text9 에서 lexical diversity 계산하기(at home)\n",
        "- text6 에서 중복없는 셋 내림차순 정렬하기\n",
        "    - a. 앞에서 단어 10개 추출하기\n",
        "    - b. 조건문 연습: 'z'가 있으면 대문자로 바꾸기, 'z'가 없는데 4자 이상이면 끝 글자 대문자로 바꾸기\n",
        "\n",
        "#### Quiz 2.\n",
        "- 주민등록번호, 휴대폰 번호, 이메일 입력받는다.\n",
        "   - 주민번호, 휴대폰은 숫자만 입력('-' 없다)\n",
        "   - 이메일은 아이디만 입력('@' 뒷부분 없다)\n",
        "\n",
        "- 출력\n",
        "   - \"당신은 {}년 {}월 {}일 출생의 {남성/여성}입니다.\"\n",
        "   - 휴대폰 번호: {}  -> 하이푼으로 연결하기(하이푼 없는 걸 하이푼으로 연결하라)\n",
        "   - 이메일 주소 :{아이디}@gmail.com"
      ],
      "metadata": {
        "id": "WM3ipz_zBU59"
      }
    },
    {
      "cell_type": "code",
      "source": [
        "# Quiz 1-1.\n",
        "story9 = book.text9\n",
        "len(set(story9.tokens))/len(story9.tokens) "
      ],
      "metadata": {
        "colab": {
          "base_uri": "https://localhost:8080/"
        },
        "id": "DsBGCgpjJ9bE",
        "outputId": "c08db962-ee30-47e7-dcce-113b3f1df35d"
      },
      "execution_count": 13,
      "outputs": [
        {
          "output_type": "execute_result",
          "data": {
            "text/plain": [
              "0.0983485761345412"
            ]
          },
          "metadata": {},
          "execution_count": 13
        }
      ]
    },
    {
      "cell_type": "code",
      "source": [
        "from IPython.core.display import TextDisplayObject\n",
        "# Quiz 1-2.\n",
        "txt_6 = book.text6\n",
        "txt6_reduc = sorted(set(txt_6.tokens), reverse = True)[:10]\n",
        "print(txt6_reduc)\n",
        "\n",
        "for i in range(10):\n",
        "  if 'z' in txt6_reduc[i]:\n",
        "    cap_z = txt6_reduc[i].capitalize()\n",
        "    print(cap_z, end = ' ')\n",
        "  else:\n",
        "    if len(txt6_reduc[i]) >= 4:\n",
        "      len_4 = txt6_reduc[::-1]\n",
        "      cap_len4 = txt6_reduc[i].capitalize()\n",
        "      print(cap_len4, end = ' ')\n",
        "    else:\n",
        "      print(txt6_reduc[i])"
      ],
      "metadata": {
        "colab": {
          "base_uri": "https://localhost:8080/"
        },
        "id": "Gr-mFCM2Lt4X",
        "outputId": "8a90ca89-6e2e-4290-f91c-8e0c7603507c"
      },
      "execution_count": 17,
      "outputs": [
        {
          "output_type": "stream",
          "name": "stdout",
          "text": [
            "['zoosh', 'zoop', 'zoo', 'zone', 'zhiv', 'yourself', 'yours', 'your', 'young', 'you']\n",
            "Zoosh Zoop Zoo Zone Zhiv Yourself Yours Your Young you\n"
          ]
        }
      ]
    },
    {
      "cell_type": "code",
      "source": [
        "# Quiz 2.\n",
        "resident_number = (input(\"주민등록번호를 입력해주세요(숫자만 입력): \"))\n",
        "phone_number = (input(\"휴대폰 번호를 입력해주세요(숫자만 입력): \"))\n",
        "e_mail = (input(\"이메일을 입력해주세요(아이디 부분만 입력): \"))\n",
        "print()\n",
        "\n",
        "if resident_number[6:7] == '1' or resident_number[6:7] == '3' :\n",
        "  print(f'당신은 {resident_number[:2]}년 {resident_number[2:4]}월 {resident_number[4:6]}일 출생의 남성입니다.')\n",
        "elif resident_number[6:7] == '2' or resident_number[6:7] == '4':\n",
        "   print(f'당신은 {resident_number[:2]}년 {resident_number[2:4]}월 {resident_number[4:6]}일 출생의 여성입니다.')\n",
        "else:\n",
        "  print(\"잘못된 주민등록번호입니다.\")\n",
        "\n",
        "print(f'휴대폰 번호: {phone_number[:3]}-{phone_number[3:7]}-{phone_number[7:11]}')\n",
        "print(f'이메일 주소: {e_mail}@gmail.com')\n",
        " "
      ],
      "metadata": {
        "colab": {
          "base_uri": "https://localhost:8080/"
        },
        "id": "J-Bfa17eHtSH",
        "outputId": "58371794-bade-4bdb-fa34-e5918aa4b82b"
      },
      "execution_count": 15,
      "outputs": [
        {
          "output_type": "stream",
          "name": "stdout",
          "text": [
            "주민등록번호를 입력해주세요(숫자만 입력): 0102133651236\n",
            "휴대폰 번호를 입력해주세요(숫자만 입력): 01045632123\n",
            "이메일을 입력해주세요(아이디 부분만 입력): dfaf123\n",
            "\n",
            "당신은 01년 02월 13일 출생의 남성입니다.\n",
            "휴대폰 번호: 010-4563-2123\n",
            "이메일 주소: dfaf123@gmail.com\n"
          ]
        }
      ]
    }
  ]
}