{
  "nbformat": 4,
  "nbformat_minor": 0,
  "metadata": {
    "colab": {
      "name": "Hyeryeong_1,3,5,6.ipynb",
      "provenance": [],
      "collapsed_sections": [],
      "authorship_tag": "ABX9TyOQqx3SqyFh3GxuDT5UwDOY",
      "include_colab_link": true
    },
    "kernelspec": {
      "name": "python3",
      "display_name": "Python 3"
    },
    "language_info": {
      "name": "python"
    }
  },
  "cells": [
    {
      "cell_type": "markdown",
      "metadata": {
        "id": "view-in-github",
        "colab_type": "text"
      },
      "source": [
        "<a href=\"https://colab.research.google.com/github/hyeriong/cho-hye-ryeong_202103342/blob/main/Hyeryeong_1%2C3%2C5%2C6.ipynb\" target=\"_parent\"><img src=\"https://colab.research.google.com/assets/colab-badge.svg\" alt=\"Open In Colab\"/></a>"
      ]
    },
    {
      "cell_type": "markdown",
      "source": [
        "# 퀴즈 리뷰\n",
        "## Week03\n",
        "\n",
        "- 목표: 최대한 깔끔한 코드 만들어보기!!"
      ],
      "metadata": {
        "id": "t0FobsX_W3i3"
      }
    },
    {
      "cell_type": "code",
      "execution_count": 22,
      "metadata": {
        "id": "5_wVhxIFMGZY",
        "colab": {
          "base_uri": "https://localhost:8080/"
        },
        "outputId": "2fd63f79-a40e-49d9-e92e-fdabdd02079d"
      },
      "outputs": [
        {
          "output_type": "stream",
          "name": "stdout",
          "text": [
            "*** Introductory Examples for the NLTK Book ***\n",
            "Loading text1, ..., text9 and sent1, ..., sent9\n",
            "Type the name of the text or sentence to view it.\n",
            "Type: 'texts()' or 'sents()' to list the materials.\n",
            "text1: Moby Dick by Herman Melville 1851\n",
            "text2: Sense and Sensibility by Jane Austen 1811\n",
            "text3: The Book of Genesis\n",
            "text4: Inaugural Address Corpus\n",
            "text5: Chat Corpus\n",
            "text6: Monty Python and the Holy Grail\n",
            "text7: Wall Street Journal\n",
            "text8: Personals Corpus\n",
            "text9: The Man Who Was Thursday by G . K . Chesterton 1908\n"
          ]
        }
      ],
      "source": [
        "import nltk\n",
        "nltk.download('book', quiet = True)\n",
        "from nltk import book"
      ]
    },
    {
      "cell_type": "markdown",
      "source": [
        "### 1번\n",
        "- [NLTK] text6에서 pt를 포함하는 단어 리스트를 출력하는 코드를 작성하세요.\n",
        "\n"
      ],
      "metadata": {
        "id": "3OX74nL4U_e2"
      }
    },
    {
      "cell_type": "code",
      "source": [
        "#1.\n",
        "'''\n",
        "1. pt, Pt, pT, PT의 경우 모두 고려 -> 전부 소문자로 교체? 4가지 경우 모두 출력?\n",
        "   -> lower() 사용하여 소문자로 교체\n",
        "2. 리스트 컴프리헨션 사용**\n",
        "3. set으로 중복되는 단어는 미리 삭제\n",
        "'''\n",
        "btxt6 = book.text6\n",
        "pt_word = [word.lower() for word in set(btxt6) if 'pt' in word]\n",
        "pt_word"
      ],
      "metadata": {
        "id": "fNC1YuQTX8f8",
        "colab": {
          "base_uri": "https://localhost:8080/"
        },
        "outputId": "2fd1dc05-fa65-4c99-8bef-9011545e59cf"
      },
      "execution_count": 23,
      "outputs": [
        {
          "output_type": "execute_result",
          "data": {
            "text/plain": [
              "['thpppppt',\n",
              " 'ptoo',\n",
              " 'empty',\n",
              " 'thppppt',\n",
              " 'thppt',\n",
              " 'excepting',\n",
              " 'temptation',\n",
              " 'chapter',\n",
              " 'temptress',\n",
              " 'aptly',\n",
              " 'thpppt']"
            ]
          },
          "metadata": {},
          "execution_count": 23
        }
      ]
    },
    {
      "cell_type": "markdown",
      "source": [
        "### 3번\n",
        "- 팩토리얼이란 다음과 같다.\n",
        "\n",
        "1! = 1 2! = 1 * 2 3! = 1 * 2 * 3 ... n! = 1 * 2 *3 * ... * n\n",
        "\n",
        "팩토리얼을 구한 뒤, 결과값의 맨 마지막 자리에서 시작해서 처음으로 0이 아닌 숫자가 나올 때까지 0의 개수를 구하는 함수를 만드시오. 예: 80000300 => 2개\n",
        "\n",
        "입력값= n\n",
        "출력값= 결과값, 0 개수"
      ],
      "metadata": {
        "id": "r6GVRSyKVHOy"
      }
    },
    {
      "cell_type": "code",
      "source": [
        "#3. 문제풀이\n",
        "'''\n",
        "1. 팩토리얼 먼저 구하기\n",
        " - 초깃값은 1로 해야 함.(0으로 하면 숫자를 곱했을 때 계속 0이 나옴)\n",
        "2. 0의 개수 구하기\n",
        " - 정수를 문자열로 바꾸고 '0'의 위치 찾기\n",
        " - 10으로 나누고 그 횟수 세기(확정)\n",
        " - rfind() 이용\n",
        "'''\n",
        "def factorial(n):\n",
        "  gop = 1\n",
        "  for i in range(1, n +1):\n",
        "    gop = gop * i\n",
        "    result_gop = gop\n",
        "\n",
        "  zero_count = 0\n",
        "  while gop % 10 == 0:\n",
        "    gop /= 10\n",
        "    zero_count += 1\n",
        "\n",
        "  result = f'결과값: %d, 0의 개수: %d개'%(result_gop, zero_count)\n",
        "  return result\n",
        "\n",
        "factorial(7)"
      ],
      "metadata": {
        "id": "KmkRQ-uEfOAE",
        "colab": {
          "base_uri": "https://localhost:8080/",
          "height": 36
        },
        "outputId": "61f5482c-e1e3-4887-a8d8-adeff8b971fd"
      },
      "execution_count": 13,
      "outputs": [
        {
          "output_type": "execute_result",
          "data": {
            "text/plain": [
              "'결과값: 5040, 0의 개수: 1개'"
            ],
            "application/vnd.google.colaboratory.intrinsic+json": {
              "type": "string"
            }
          },
          "metadata": {},
          "execution_count": 13
        }
      ]
    },
    {
      "cell_type": "markdown",
      "source": [
        "### 5번\n",
        "- 다음과 같은 규칙을 따르는 프로그램이 있다고 하자.\n",
        "\n",
        "주어진 수가 10보다 작다면 앞에 0을 붙여 두 자리 수로 만들고, 각 자리의 숫자를 더한다. \n",
        "그 다음, 주어진 수의 가장 오른쪽 자리 수와 앞에서 구한 합의 가장 오른쪽 자리 수를 이어 붙이면 새로운 수를 만들 수 있다.\n",
        "\n",
        "예를 들어, 26은 2+6 = 8이다. 새로운 수는 68이다. 6+8 = 14이다. 새로운 수는 84이다. \n",
        "8+4 = 12이다. 새로운 수는 42이다. 4+2 = 6이다. 새로운 수는 26이다. \n",
        "26은 4번만에 원래 수로 돌아올 수 있다. 따라서 26의 사이클의 길이는 4이다.\n",
        "\n",
        "n이 주어졌을 때, n의 사이클의 길이를 구하는 프로그램을 작성하시오.\n",
        "\n",
        "입력: n (n은 0보다 크거나 같고, 99보다 작거나 같은 정수)\n",
        "출력: n의 사이클 길이"
      ],
      "metadata": {
        "id": "4zIQrBQdVOCK"
      }
    },
    {
      "cell_type": "code",
      "source": [
        "#5.문제풀이\n",
        "'''\n",
        "1. 십의 자리숫자와 일의 자리 숫자 더하기\n",
        " - 입력 받은 숫자를 문자열로 변환하여 인덱싱 -> 정수로 다시 변환하여 더하기\n",
        " - 10으로 나눠서 몫으로 계산(확정)\n",
        "2. 반복문 설정범위\n",
        " - 처음 값 = 결과값\n",
        " - 무한 루프(o)\n",
        "3. 정수가 10보다 작을 때?\n",
        " - 조건문으로 문자 0 붙여줌\n",
        "4. 사이클 횟수 구하기\n",
        " - 초깃값 0으로 설정하고\n",
        " - 반복문 돌아갈 때마다 1씩 더함\n",
        "'''\n",
        "n = int(input())\n",
        "res_num = n\n",
        "cycle_num = 0\n",
        "\n",
        "if n < 10:\n",
        "  under_0 = '0' + str(n)\n",
        "\n",
        "while True:\n",
        "  ten_num = res_num // 10\n",
        "  rest = res_num % 10\n",
        "  calc_nums = (ten_num + rest) % 10\n",
        "  res_num = (rest * 10) + calc_nums\n",
        "\n",
        "  cycle_num += 1\n",
        "\n",
        "  if (res_num == n):\n",
        "    break\n",
        "\n",
        "print(f'%d의 사이클 횟수는 %d입니다.'%(n, cycle_num))"
      ],
      "metadata": {
        "id": "feHzpNjjda0f",
        "colab": {
          "base_uri": "https://localhost:8080/"
        },
        "outputId": "44872458-fcd3-40ea-8efe-bd158673ebae"
      },
      "execution_count": 21,
      "outputs": [
        {
          "output_type": "stream",
          "name": "stdout",
          "text": [
            "26\n",
            "26의 사이클 횟수는 4입니다.\n"
          ]
        }
      ]
    },
    {
      "cell_type": "markdown",
      "source": [
        "### 6번\n",
        "다음 조건에 맞게 별찍기 프로그램을 작성하시오.\n",
        "\n",
        "[ 조건 ]\n",
        "\n",
        "첫째 줄에는 별 2×N-1개, 둘째 줄에는 별 2×N-3개, ..., N번째 줄에는 별 1개를 찍는다.\n",
        "\n",
        "별은 가운데를 기준으로 대칭이어야 한다.\n",
        "\n",
        "입력값: n\n",
        "\n",
        "출력값: 첫째 줄부터 N번째 줄까지 차례대로 별을 출력\n",
        "\n",
        "(출력 예시) 다음은 n = 5 일때 출력 예시이다. 참고해서 프로그램을 작성하시오."
      ],
      "metadata": {
        "id": "OlHkbgVpVXjz"
      }
    },
    {
      "cell_type": "code",
      "source": [
        "#6번. 문제풀이\n",
        "'''\n",
        "1. 먼저 공백 출력\n",
        "2. 그 다음 별 출력(공백을 출력한 그 위치에서부터 별 출력해야 하기 때문)\n",
        "'''\n",
        "n = int(input(\"몇 줄을 출력할까요? \"))\n",
        "\n",
        "for i in range(n,0,-1):\n",
        "  print(' ' * (n-i) + '*' * (2*i -1))"
      ],
      "metadata": {
        "colab": {
          "base_uri": "https://localhost:8080/"
        },
        "id": "XHxj285BVcTb",
        "outputId": "29337a32-5ffb-4344-ae81-ece74f5fc5cb"
      },
      "execution_count": 26,
      "outputs": [
        {
          "output_type": "stream",
          "name": "stdout",
          "text": [
            "몇 줄을 출력할까요? 6\n",
            "***********\n",
            " *********\n",
            "  *******\n",
            "   *****\n",
            "    ***\n",
            "     *\n"
          ]
        }
      ]
    }
  ]
}