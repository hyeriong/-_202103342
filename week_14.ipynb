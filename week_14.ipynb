{
  "nbformat": 4,
  "nbformat_minor": 0,
  "metadata": {
    "colab": {
      "name": "week_14.ipynb",
      "provenance": [],
      "authorship_tag": "ABX9TyPtVltheOnhLWckMjIWqFF+",
      "include_colab_link": true
    },
    "kernelspec": {
      "name": "python3",
      "display_name": "Python 3"
    },
    "language_info": {
      "name": "python"
    }
  },
  "cells": [
    {
      "cell_type": "markdown",
      "metadata": {
        "id": "view-in-github",
        "colab_type": "text"
      },
      "source": [
        "<a href=\"https://colab.research.google.com/github/hyeriong/cho-hye-ryeong_202103342/blob/main/week_14.ipynb\" target=\"_parent\"><img src=\"https://colab.research.google.com/assets/colab-badge.svg\" alt=\"Open In Colab\"/></a>"
      ]
    },
    {
      "cell_type": "markdown",
      "source": [
        "# 고급파이썬프로그래밍_14주차(6/3)\n",
        "- 해리포터랑 구구단 리뷰\n",
        "- 이번주는 3주차로 하면 됨\n",
        "- 4,5주차 하면 가산점"
      ],
      "metadata": {
        "id": "SE_n70v63TLq"
      }
    },
    {
      "cell_type": "markdown",
      "source": [
        "## 함수II\n",
        "- 중첩함수\n",
        "  - 캡슐화 목적\n",
        "     - 변수 범위를 제한할 수 있다.\n",
        "     - 책임, 관리 명확해짐\n",
        "- 제너레이터\n",
        "- 재귀함수"
      ],
      "metadata": {
        "id": "CIlNgM_y3eNl"
      }
    },
    {
      "cell_type": "code",
      "execution_count": 1,
      "metadata": {
        "colab": {
          "base_uri": "https://localhost:8080/"
        },
        "id": "CO4ptSXa3OFj",
        "outputId": "5bf23877-82b2-4c81-faba-96f98e57f1f1"
      },
      "outputs": [
        {
          "output_type": "execute_result",
          "data": {
            "text/plain": [
              "4"
            ]
          },
          "metadata": {},
          "execution_count": 1
        }
      ],
      "source": [
        "def outer(a, b):  # 외부함수\n",
        "  def inner(c, d):   # 내부함수\n",
        "    return c + d\n",
        "  return inner(a, b)\n",
        "\n",
        "outer(2, 2)"
      ]
    },
    {
      "cell_type": "code",
      "source": [
        "# inner(2, 2)   # error => 선언한 적 없다"
      ],
      "metadata": {
        "id": "quDQnez96JiP"
      },
      "execution_count": 2,
      "outputs": []
    },
    {
      "cell_type": "code",
      "source": [
        "def knights(saying):\n",
        "  def inner(quote):\n",
        "    return f'we are the knights who say: {quote}'\n",
        "  return inner(saying)\n",
        "\n",
        "case1 = knights('Ni!')"
      ],
      "metadata": {
        "id": "M5QwnfWN6kPZ"
      },
      "execution_count": 3,
      "outputs": []
    },
    {
      "cell_type": "code",
      "source": [
        "case1"
      ],
      "metadata": {
        "colab": {
          "base_uri": "https://localhost:8080/",
          "height": 36
        },
        "id": "2jWPUsQR62yl",
        "outputId": "74698b29-6f87-47a4-c2bd-b2a43644ad39"
      },
      "execution_count": 4,
      "outputs": [
        {
          "output_type": "execute_result",
          "data": {
            "text/plain": [
              "'we are the knights who say: Ni!'"
            ],
            "application/vnd.google.colaboratory.intrinsic+json": {
              "type": "string"
            }
          },
          "metadata": {},
          "execution_count": 4
        }
      ]
    },
    {
      "cell_type": "markdown",
      "source": [
        "### 클로저\n",
        "- 자신을 둘러싼 scope(name space)의 상태값을 기억하는 함수\n",
        "- 호출하기 전까진 메모리에 올라가지 않음\n",
        "  -> 메모리 효율적 사용(함수 호출 시 꺼내 쓸 수 있다)\n",
        "- 조건\n",
        "  - 중첩함수여야 함\n",
        "  - 외부함수의 상태값 참조해야 함\n",
        "  - 외부함수가 내부함수를 반환해야 함"
      ],
      "metadata": {
        "id": "pGZ6zrHoa6_i"
      }
    },
    {
      "cell_type": "code",
      "source": [
        "def multiply(x): # 클로저(closure)\n",
        "  def inner(y):\n",
        "    return x + y\n",
        "  return inner  # 함수 실행되기 전\n",
        "\n",
        "multiply"
      ],
      "metadata": {
        "colab": {
          "base_uri": "https://localhost:8080/"
        },
        "id": "Vnr4FumS65oW",
        "outputId": "f95588b3-a939-446a-90ae-ac0d6aafe631"
      },
      "execution_count": 5,
      "outputs": [
        {
          "output_type": "execute_result",
          "data": {
            "text/plain": [
              "<function __main__.multiply>"
            ]
          },
          "metadata": {},
          "execution_count": 5
        }
      ]
    },
    {
      "cell_type": "code",
      "source": [
        "m5 = multiply(5) # x = 5\n",
        "m6 = multiply(6) # x = 6"
      ],
      "metadata": {
        "id": "sgnq4pRG7O2n"
      },
      "execution_count": 6,
      "outputs": []
    },
    {
      "cell_type": "code",
      "source": [
        "m5(4)"
      ],
      "metadata": {
        "colab": {
          "base_uri": "https://localhost:8080/"
        },
        "id": "yowM7E5w7Ou-",
        "outputId": "acce88bd-9b68-4f0a-a433-2c71675b1803"
      },
      "execution_count": 7,
      "outputs": [
        {
          "output_type": "execute_result",
          "data": {
            "text/plain": [
              "9"
            ]
          },
          "metadata": {},
          "execution_count": 7
        }
      ]
    },
    {
      "cell_type": "code",
      "source": [
        "m5(6)"
      ],
      "metadata": {
        "id": "-NCJDOVK7acg",
        "outputId": "919e0167-685a-48a3-c8b1-a57714bc41c6",
        "colab": {
          "base_uri": "https://localhost:8080/"
        }
      },
      "execution_count": 8,
      "outputs": [
        {
          "output_type": "execute_result",
          "data": {
            "text/plain": [
              "11"
            ]
          },
          "metadata": {},
          "execution_count": 8
        }
      ]
    },
    {
      "cell_type": "code",
      "source": [
        "del(multiply) # 삭제 가능"
      ],
      "metadata": {
        "id": "G3x5eiwebXe7"
      },
      "execution_count": 9,
      "outputs": []
    },
    {
      "cell_type": "code",
      "source": [
        "# multiply  # 위세서 multiply 없앴기 때문에 오류 뜸"
      ],
      "metadata": {
        "id": "Q_ZOYa2Dbb-g"
      },
      "execution_count": 11,
      "outputs": []
    },
    {
      "cell_type": "code",
      "source": [
        "m5(10)"
      ],
      "metadata": {
        "colab": {
          "base_uri": "https://localhost:8080/"
        },
        "id": "z2gOd59-bctj",
        "outputId": "3ac67cc0-e325-4651-e816-53a1ee8bacfe"
      },
      "execution_count": 12,
      "outputs": [
        {
          "output_type": "execute_result",
          "data": {
            "text/plain": [
              "15"
            ]
          },
          "metadata": {},
          "execution_count": 12
        }
      ]
    },
    {
      "cell_type": "markdown",
      "source": [
        "### 데코레이터\n",
        "- 메인 함수에 또 다른 함수를 데코레이터로 선언하여 사용할 수 있음\n",
        "- 목적:\n",
        "   - 재사용, 가독성, 직관적임"
      ],
      "metadata": {
        "id": "MZjuhOkAbndz"
      }
    },
    {
      "cell_type": "code",
      "source": [
        "def document_it(func):\n",
        "  def new_func(*args, **kargs):\n",
        "    print('arguments: ', args)\n",
        "    print('key arguments: ', kargs)\n",
        "    return func(*args, **kargs)\n",
        "  return new_func\n",
        "\n",
        "@document_it\n",
        "def add(a,b):\n",
        "  return a + b\n",
        "\n",
        "@document_it\n",
        "def subtract(a, b):\n",
        "  return a - b\n",
        "\n",
        "# document_it이 먼저 실행되어야 데코레이터 쓸 수 있음!"
      ],
      "metadata": {
        "id": "rG9XmrEQbvMa"
      },
      "execution_count": 19,
      "outputs": []
    },
    {
      "cell_type": "code",
      "source": [
        "add(1,3)"
      ],
      "metadata": {
        "colab": {
          "base_uri": "https://localhost:8080/"
        },
        "id": "IFQ02Mq8caZN",
        "outputId": "69fab60d-b838-41a1-b1b0-56da062e808a"
      },
      "execution_count": 20,
      "outputs": [
        {
          "output_type": "stream",
          "name": "stdout",
          "text": [
            "arguments:  (1, 3)\n",
            "key arguments:  {}\n"
          ]
        },
        {
          "output_type": "execute_result",
          "data": {
            "text/plain": [
              "4"
            ]
          },
          "metadata": {},
          "execution_count": 20
        }
      ]
    },
    {
      "cell_type": "markdown",
      "source": [
        "#### add에 활용할 중첩함수 만들기\n",
        "- 결과값의 제곱 값을 반환하는 클로저 함수 만들기"
      ],
      "metadata": {
        "id": "UJfJKlnxc7Ut"
      }
    },
    {
      "cell_type": "code",
      "source": [
        ""
      ],
      "metadata": {
        "id": "Pi1sKbXzc6NV"
      },
      "execution_count": null,
      "outputs": []
    }
  ]
}